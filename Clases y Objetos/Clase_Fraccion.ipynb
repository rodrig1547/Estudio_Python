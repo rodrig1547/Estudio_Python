{
 "cells": [
  {
   "cell_type": "markdown",
   "metadata": {},
   "source": [
    "## Clases y Objetos"
   ]
  },
  {
   "cell_type": "code",
   "execution_count": 3,
   "metadata": {},
   "outputs": [],
   "source": [
    "## Los objetos tinen caracteristicas (ruedas, puertas) y puede generar acciones (Moverse)\n",
    "# La clase es un molde que te permite generar objetos\n",
    "# Cada objeto tiene una identidad como el color\n",
    "# Si son de la misma clases no necesariamente tienen los mismos atributos\n",
    "# Las clases tienen atributos, metodos y relaciones"
   ]
  },
  {
   "cell_type": "code",
   "execution_count": 5,
   "metadata": {},
   "outputs": [
    {
     "name": "stdout",
     "output_type": "stream",
     "text": [
      "6 / 8\n",
      "2 / 3\n",
      "12 / 24\n",
      "18 / 16\n"
     ]
    }
   ],
   "source": [
    "class Fraccion:\n",
    "    \n",
    "    def __init__(self, n=0, d=1):\n",
    "        ## Función construcctor  \n",
    "        self.den = d\n",
    "        self.num = n\n",
    "\n",
    "    def multiplica(self, b):\n",
    "        num = self.num* b.num\n",
    "        den = self.den* b.den\n",
    "        r = Fraccion(num,den)\n",
    "        return r\n",
    "\n",
    "    def imprime(self): \n",
    "        print(self.num, \"/\", self.den)\n",
    "\n",
    "    def division(self, c):\n",
    "        num = self.num * c.den\n",
    "        den = self.den * c.num\n",
    "        r = Fraccion(num,den)\n",
    "        return r\n",
    "        \n",
    "def main():\n",
    "    a = Fraccion(6,8)\n",
    "    b = Fraccion(2,3)\n",
    "    a.imprime()\n",
    "    b.imprime()\n",
    "    c = a.multiplica(b)\n",
    "    c.imprime()\n",
    "    d = a.division(b)\n",
    "    d.imprime()\n",
    "\n",
    "if __name__ == '__main__':\n",
    "    main()\n"
   ]
  }
 ],
 "metadata": {
  "kernelspec": {
   "display_name": "Python 3.10.6 64-bit (windows store)",
   "language": "python",
   "name": "python3"
  },
  "language_info": {
   "codemirror_mode": {
    "name": "ipython",
    "version": 3
   },
   "file_extension": ".py",
   "mimetype": "text/x-python",
   "name": "python",
   "nbconvert_exporter": "python",
   "pygments_lexer": "ipython3",
   "version": "3.10.6"
  },
  "orig_nbformat": 4,
  "vscode": {
   "interpreter": {
    "hash": "0f977501235455cdc99ffc7563a65b32cf9a72c5689fba4526e4b35f1a52f241"
   }
  }
 },
 "nbformat": 4,
 "nbformat_minor": 2
}
