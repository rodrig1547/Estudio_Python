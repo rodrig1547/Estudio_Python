{
 "cells": [
  {
   "cell_type": "markdown",
   "metadata": {},
   "source": [
    "## Probabilidades con reemplazo y sin reemplazo\n",
    "\n",
    "### Selección sin reemplazo\n",
    "Al escoger un elemento determinado sin reposición de una población de tamaño N, la probabilidad de que tal elemento sea elegido es:\n",
    "\n",
    "P(x1) = 1/N\n",
    "\n",
    "Una vez hecho esto, quedan N−1 elementos en la población, por lo tanto, la probabilidad de elegir al siguiente es:\n",
    "\n",
    "P(x2) = 1/(N−1)\n",
    "\n",
    "Elegido este elemento, la población consta ahora de N−2 elementos, en tal caso, la probabilidad de elegir al siguiente es:\n",
    "\n",
    "P(x3) = 1/(N−2)\n",
    "\n",
    "Y así sucesivamente. La probabilidad para el n-ésimo elemento es:\n",
    "\n",
    "P(xn) = 1/[N−(n-1)]\n",
    "\n",
    "Finalmente, la probabilidad conjunta de seleccionar a los elementos x1, x2, x3… como parte de la muestra, es el producto de cada una de las probabilidades:\n",
    "\n",
    "P(x1, x2, x3…)= 1/N × 1/(N−1) × 1/(N−2) ×… × 1/[N−(n-1)] = 1/[N × (N−1) × (N−2) ×… × [N−(n-1)]\n",
    "\n",
    "### Selección con reemplazo\n",
    "La probabilidad de que ocurra determinado evento x, es el cociente entre el número de casos favorables y el total de casos:\n",
    "\n",
    "P(x)= casos favorables/total de casos.\n",
    "\n",
    "Si la población consta de N elementos diferentes: x1, x2, x3…, la probabilidad de escoger al elemento x1 es P(x1) = 1/N.\n",
    "\n",
    "Como hay reposición, el tamaño de la población sigue siendo N, entonces, la probabilidad de escoger el siguiente elemento x2 es P(x2) = 1/N.\n",
    "\n",
    "Y de igual forma, cada uno de los restantes elementos tiene igual probabilidad de ser seleccionado:\n",
    "\n",
    "P(xn) = 1/N\n",
    "\n",
    "Por lo tanto, al ser los eventos independientes entre sí, la probabilidad conjunta de ocurrencia es el producto de las probabilidades de cada uno de ellos:\n",
    "\n",
    "P(x1, x2, x3…xn)= (1/N) × (1/N) ×…× (1/N)\n",
    "\n"
   ]
  },
  {
   "cell_type": "code",
   "execution_count": 8,
   "metadata": {},
   "outputs": [
    {
     "name": "stdout",
     "output_type": "stream",
     "text": [
      "Product B    62\n",
      "Product D    40\n",
      "Product A    23\n",
      "Product C    15\n",
      "Product F    11\n",
      "Product H     8\n",
      "Product I     7\n",
      "Product E     5\n",
      "Product N     3\n",
      "Product G     2\n",
      "Product J     2\n",
      "Name: product, dtype: int64\n",
      "Probabilidad por cada uno de los productos\n",
      " Product B    34.831461\n",
      "Product D    22.471910\n",
      "Product A    12.921348\n",
      "Product C     8.426966\n",
      "Product F     6.179775\n",
      "Product H     4.494382\n",
      "Product I     3.932584\n",
      "Product E     2.808989\n",
      "Product N     1.685393\n",
      "Product G     1.123596\n",
      "Product J     1.123596\n",
      "Name: product, dtype: float64\n"
     ]
    }
   ],
   "source": [
    "import pandas as pd\n",
    "amir_deals = pd.read_csv('amir_deals.csv')\n",
    "\n",
    "counts = amir_deals['product'].value_counts()\n",
    "print (counts)\n",
    "print ('Probabilidad por cada uno de los productos\\n',(counts/ counts.sum())*100)"
   ]
  }
 ],
 "metadata": {
  "kernelspec": {
   "display_name": "Python 3.10.7 64-bit (microsoft store)",
   "language": "python",
   "name": "python3"
  },
  "language_info": {
   "codemirror_mode": {
    "name": "ipython",
    "version": 3
   },
   "file_extension": ".py",
   "mimetype": "text/x-python",
   "name": "python",
   "nbconvert_exporter": "python",
   "pygments_lexer": "ipython3",
   "version": "3.10.7"
  },
  "orig_nbformat": 4,
  "vscode": {
   "interpreter": {
    "hash": "0f977501235455cdc99ffc7563a65b32cf9a72c5689fba4526e4b35f1a52f241"
   }
  }
 },
 "nbformat": 4,
 "nbformat_minor": 2
}
